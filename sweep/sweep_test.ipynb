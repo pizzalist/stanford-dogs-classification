{
 "cells": [
  {
   "cell_type": "code",
   "execution_count": null,
   "metadata": {},
   "outputs": [],
   "source": [
    "import wandb\n",
    "\n",
    "wandb.login()\n",
    "\n",
    "sweep_config = {\n",
    "    'method': 'random',\n",
    "    'name': 'sweep',\n",
    "    'metric': {\n",
    "        'goal': 'minimize', \n",
    "        'name': 'val_acc'\n",
    "        },\n",
    "    'parameters': {\n",
    "        'batch_size': {'values': [16, 32, 64, 256]},\n",
    "        'epochs': {'values': [5, 10, 15]},\n",
    "        'lr': {'max': 0.1, 'min': 0.0001},\n",
    "        \n",
    "     }\n",
    "}\n",
    "\n",
    "sweep_id = wandb.sweep(sweep_config, project=\"stanford-dogs\")\n",
    "wandb.agent(sweep_id, train, count=2)"
   ]
  }
 ],
 "metadata": {
  "kernelspec": {
   "display_name": "Python 3.11.4 ('noah')",
   "language": "python",
   "name": "python3"
  },
  "language_info": {
   "name": "python",
   "version": "3.11.4"
  },
  "orig_nbformat": 4,
  "vscode": {
   "interpreter": {
    "hash": "9e8ee30261bc8acd9c372f96a7e05464c4a07a7ee107458819f0bbed4d483721"
   }
  }
 },
 "nbformat": 4,
 "nbformat_minor": 2
}
