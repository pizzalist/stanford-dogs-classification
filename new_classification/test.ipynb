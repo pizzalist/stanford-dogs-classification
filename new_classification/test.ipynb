{
 "cells": [
  {
   "cell_type": "code",
   "execution_count": 3,
   "metadata": {},
   "outputs": [],
   "source": [
    "import torchvision.models as models\n",
    "import torch.nn.functional as F\n",
    "from torch import nn\n",
    "\n",
    "class ResNet152PretrainedModel(nn.Module):\n",
    "    def __init__(self):\n",
    "        super().__init__()\n",
    "        # self.model = models.resnet152(pretrained=True)\n",
    "        self.model = models.resnet152(weights = models.ResNet152_Weights.IMAGENET1K_V2)\n",
    "        self.model.fc = nn.Linear(2048, 120)\n",
    "\n",
    "        layer = 0\n",
    "        for child in self.model.children():\n",
    "            if layer <= 7: # 7, 8, 9번째 layer만 학습\n",
    "                for param in child.parameters():\n",
    "                    param.requires_grad = False\n",
    "            layer += 1\n",
    "\n",
    "        \n",
    "    def forward(self, x):\n",
    "        return F.log_softmax(self.model(x), dim=0)\n"
   ]
  }
 ],
 "metadata": {
  "kernelspec": {
   "display_name": "Python 3.11.4 ('noah')",
   "language": "python",
   "name": "python3"
  },
  "language_info": {
   "codemirror_mode": {
    "name": "ipython",
    "version": 3
   },
   "file_extension": ".py",
   "mimetype": "text/x-python",
   "name": "python",
   "nbconvert_exporter": "python",
   "pygments_lexer": "ipython3",
   "version": "3.11.4"
  },
  "orig_nbformat": 4,
  "vscode": {
   "interpreter": {
    "hash": "9e8ee30261bc8acd9c372f96a7e05464c4a07a7ee107458819f0bbed4d483721"
   }
  }
 },
 "nbformat": 4,
 "nbformat_minor": 2
}
